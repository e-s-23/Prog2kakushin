{
  "cells": [
    {
      "cell_type": "markdown",
      "metadata": {
        "id": "view-in-github",
        "colab_type": "text"
      },
      "source": [
        "<a href=\"https://colab.research.google.com/github/e-s-23/Prog2kakushin/blob/main/work2.ipynb\" target=\"_parent\"><img src=\"https://colab.research.google.com/assets/colab-badge.svg\" alt=\"Open In Colab\"/></a>"
      ]
    },
    {
      "cell_type": "markdown",
      "metadata": {
        "id": "c4N0ghsc_3gg"
      },
      "source": [
        "#微積分とリアルタイムグラフ描画\n",
        "\n",
        "詳細はgithubのREADME\n"
      ]
    },
    {
      "cell_type": "markdown",
      "source": [
        "まずはライブラリをインポート"
      ],
      "metadata": {
        "id": "uw5g9qpvg0Hl"
      }
    },
    {
      "cell_type": "code",
      "execution_count": null,
      "metadata": {
        "id": "vVzRbFzZUtn7"
      },
      "outputs": [],
      "source": [
        "!pip install japanize_matplotlib"
      ]
    },
    {
      "cell_type": "markdown",
      "source": [
        "#以下2つのバージョンのプログラムを用意しています  \n",
        "動作するものを使ってください  \n",
        "同時に動かすのは危険なので注意して下さい"
      ],
      "metadata": {
        "id": "6G-DSnD5h7i9"
      }
    },
    {
      "cell_type": "markdown",
      "source": [
        "##Google Colab上で動作するver\n",
        "Colab上で動作しますがGPUが弱いので時間がすごくかかります  \n",
        "こればかりはどうしようもありません"
      ],
      "metadata": {
        "id": "CB3jcrYRg6cb"
      }
    },
    {
      "cell_type": "code",
      "execution_count": null,
      "metadata": {
        "id": "77qg2HWF_0jS"
      },
      "outputs": [],
      "source": [
        "import numpy as np\n",
        "import pandas as pd\n",
        "import matplotlib.pyplot as plt\n",
        "from matplotlib.animation import FuncAnimation\n",
        "from matplotlib.animation import PillowWriter\n",
        "from matplotlib import rc\n",
        "from IPython.display import HTML\n",
        "import sympy as sy\n",
        "from sympy import pi, E, I\n",
        "import japanize_matplotlib\n",
        "\n",
        "x = sy.Symbol(\"x\")\n",
        "\n",
        "def calugul(EQ):\n",
        "    global m\n",
        "    while True:\n",
        "        mode = str(input(\"微分/積分(b/s):\"))\n",
        "\n",
        "        if(mode == \"b\"):\n",
        "            ans = sy.diff(EQ,x)\n",
        "            print(f'{\"微分結果:\"}{ans}')\n",
        "            m = \"微分\"\n",
        "            break\n",
        "\n",
        "        elif(mode == \"s\"):\n",
        "            ans = sy.integrate(EQ,x)\n",
        "            print(f'{\"積分結果:\"}{ans}')\n",
        "            m = \"積分\"\n",
        "            break\n",
        "\n",
        "        else:\n",
        "            pass\n",
        "\n",
        "    return ans\n",
        "\n",
        "def generate_graph(data):\n",
        "    x = np.linspace(-10,data/10,1000)\n",
        "    y1 = c_nan(func1(x))\n",
        "    y2 = c_nan(func2(x))\n",
        "\n",
        "    line1.set_data(x,y1)\n",
        "    line2.set_data(x,y2)\n",
        "    title.set_text(\"x: {}\".format((max(x))))\n",
        "\n",
        "def c_nan(NP):\n",
        "    df = pd.DataFrame(NP)\n",
        "    df = df.fillna(0)\n",
        "    c_NP = df.to_numpy()\n",
        "\n",
        "    return c_NP\n",
        "\n",
        "eq = input(\"式:\")\n",
        "args = (x)\n",
        "\n",
        "ANS = calugul(eq)\n",
        "\n",
        "func1 = sy.lambdify(args,eq,\"numpy\")\n",
        "func2 = sy.lambdify(args,ANS,\"numpy\")\n",
        "x = np.arange(-10,10,dtype = float)\n",
        "\n",
        "y_max = max(max(c_nan(func1(x))),max(c_nan(func2(x))))\n",
        "y_min = min(min(c_nan(func1(x))),min(c_nan(func2(x))))\n",
        "\n",
        "fig,ax = plt.subplots()\n",
        "line1, = ax.plot(np.empty(0),np.empty(0),color = \"blue\",label = \"演算前\")\n",
        "line2, = ax.plot(np.empty(0),np.empty(0),color = \"red\",label = \"演算後\")\n",
        "title = ax.set_title(None, fontsize=15)\n",
        "\n",
        "ax.set_xlim(-10,10)\n",
        "ax.set_ylim(y_min,y_max)\n",
        "ax.grid()\n",
        "ax.legend()\n",
        "ax.set_xlabel(\"x\")\n",
        "ax.set_ylabel(\"y\")\n",
        "\n",
        "ani = FuncAnimation(\n",
        "    fig,\n",
        "    generate_graph,\n",
        "    frames = range(-100,101),\n",
        "    interval=20,\n",
        "    repeat_delay = 1000)\n",
        "\n",
        "eq_r = eq.replace('**','^').replace(\"*\",\"×\")\n",
        "\n",
        "while True:\n",
        "    var = str(input(\"保存形式:gif/mp4/None(g/m/n)\"))\n",
        "\n",
        "    if(var == \"g\"):\n",
        "        ani.save(eq_r + \"_\" + m +\".gif\")\n",
        "        break\n",
        "\n",
        "    elif(var == \"m\"):\n",
        "        ani.save(eq_r + \"_\" + m + \".mp4\")\n",
        "        break\n",
        "\n",
        "    elif(var == \"n\"):\n",
        "        break\n",
        "\n",
        "#rc('animation', html='jshtml')\n",
        "#gani"
      ]
    },
    {
      "cell_type": "markdown",
      "source": [
        "##pyファイル化してVScodeなどで動かすver\n",
        "別の環境上ならある程度安定して動くように改造済みです  \n",
        "こちらを個人的にはお勧めします"
      ],
      "metadata": {
        "id": "HOZaGCC4hX64"
      }
    },
    {
      "cell_type": "code",
      "source": [
        "import numpy as np\n",
        "import pandas as pd\n",
        "import matplotlib.pyplot as plt\n",
        "from matplotlib.animation import FuncAnimation\n",
        "from matplotlib.animation import PillowWriter\n",
        "import sympy as sy\n",
        "from sympy import pi, E, I\n",
        "import japanize_matplotlib\n",
        "\n",
        "x = sy.Symbol(\"x\")\n",
        "\n",
        "def calugul(EQ):\n",
        "    global m\n",
        "    while True:\n",
        "        mode = str(input(\"微分/積分(b/s):\"))\n",
        "\n",
        "        if(mode == \"b\"):\n",
        "            ans = sy.diff(EQ,x)\n",
        "            print(f'{\"微分結果:\"}{ans}')\n",
        "            m = \"微分\"\n",
        "            break\n",
        "\n",
        "        elif(mode == \"s\"):\n",
        "            ans = sy.integrate(EQ,x)\n",
        "            print(f'{\"積分結果:\"}{ans}')\n",
        "            m = \"積分\"\n",
        "            break\n",
        "\n",
        "        else:\n",
        "            pass\n",
        "\n",
        "    return ans\n",
        "\n",
        "def generate_graph(data):\n",
        "    x = np.linspace(-10,data/10,1000)\n",
        "    y1 = c_nan(func1(x))\n",
        "    y2 = c_nan(func2(x))\n",
        "\n",
        "    line1.set_data(x,y1)\n",
        "    line2.set_data(x,y2)\n",
        "    title.set_text(\"x: {}\".format((max(x))))\n",
        "\n",
        "def c_nan(NP):\n",
        "    df = pd.DataFrame(NP)\n",
        "    df = df.fillna(0)\n",
        "    c_NP = df.to_numpy()\n",
        "\n",
        "    return c_NP\n",
        "\n",
        "eq = input(\"式:\")\n",
        "args = (x)\n",
        "\n",
        "ANS = calugul(eq)\n",
        "\n",
        "func1 = sy.lambdify(args,eq,\"numpy\")\n",
        "func2 = sy.lambdify(args,ANS,\"numpy\")\n",
        "x = np.arange(-10,10,dtype = float)\n",
        "\n",
        "y_max = max(max(c_nan(func1(x))),max(c_nan(func2(x))))\n",
        "y_min = min(min(c_nan(func1(x))),min(c_nan(func2(x))))\n",
        "\n",
        "fig,ax = plt.subplots()\n",
        "line1, = ax.plot(np.empty(0),np.empty(0),color = \"blue\",label = \"演算前\")\n",
        "line2, = ax.plot(np.empty(0),np.empty(0),color = \"red\",label = \"演算後\")\n",
        "title = ax.set_title(None, fontsize=15)\n",
        "\n",
        "ax.set_xlim(-10,10)\n",
        "ax.set_ylim(y_min,y_max)\n",
        "ax.grid()\n",
        "ax.legend()\n",
        "ax.set_xlabel(\"x\")\n",
        "ax.set_ylabel(\"y\")\n",
        "\n",
        "ani = FuncAnimation(\n",
        "    fig,\n",
        "    generate_graph,\n",
        "    frames = range(-100,101),\n",
        "    interval=20,\n",
        "    repeat_delay = 1000)\n",
        "\n",
        "plt.show()\n",
        "\n",
        "eq_r = eq.replace('**','^').replace(\"*\",\"×\")\n",
        "\n",
        "while True:\n",
        "    var = str(input(\"保存形式:gif/mp4/None(g/m/n)\"))\n",
        "\n",
        "    if(var == \"g\"):\n",
        "        ani.save(eq_r + \"_\" + m +\".gif\", writer = 'pillow',fps = 30)\n",
        "        break\n",
        "\n",
        "    elif(var == \"m\"):\n",
        "        ani.save(eq_r + \"_\" + m + \".mp4\", writer=\"ffmpeg\", fps = 30, bitrate=1000)\n",
        "        break\n",
        "\n",
        "    elif(var == \"n\"):\n",
        "        break"
      ],
      "metadata": {
        "id": "TxIAqBt9hmvi"
      },
      "execution_count": null,
      "outputs": []
    }
  ],
  "metadata": {
    "colab": {
      "provenance": [],
      "authorship_tag": "ABX9TyPH0mAvAHdwyMAVScNrz9Aj",
      "include_colab_link": true
    },
    "kernelspec": {
      "display_name": "Python 3",
      "name": "python3"
    },
    "language_info": {
      "name": "python"
    }
  },
  "nbformat": 4,
  "nbformat_minor": 0
}