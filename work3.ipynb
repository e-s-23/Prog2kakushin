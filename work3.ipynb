{
  "nbformat": 4,
  "nbformat_minor": 0,
  "metadata": {
    "colab": {
      "provenance": [],
      "toc_visible": true,
      "authorship_tag": "ABX9TyM2YUO6+jQPM+Q/NJRR/0Tw",
      "include_colab_link": true
    },
    "kernelspec": {
      "name": "python3",
      "display_name": "Python 3"
    },
    "language_info": {
      "name": "python"
    }
  },
  "cells": [
    {
      "cell_type": "markdown",
      "metadata": {
        "id": "view-in-github",
        "colab_type": "text"
      },
      "source": [
        "<a href=\"https://colab.research.google.com/github/e-s-23/Prog2kakushin/blob/main/work3.ipynb\" target=\"_parent\"><img src=\"https://colab.research.google.com/assets/colab-badge.svg\" alt=\"Open In Colab\"/></a>"
      ]
    },
    {
      "cell_type": "markdown",
      "source": [
        "#陣取りゲームプログラム\n",
        "詳細はREADME"
      ],
      "metadata": {
        "id": "weB2CKECAkug"
      }
    },
    {
      "cell_type": "markdown",
      "source": [
        "## 手札作成"
      ],
      "metadata": {
        "id": "VYwk4yiVJNHv"
      }
    },
    {
      "cell_type": "code",
      "execution_count": null,
      "metadata": {
        "id": "P2GabqOiAf6f"
      },
      "outputs": [],
      "source": [
        "import numpy as np\n",
        "import cv2,sys\n",
        "from google.colab.patches import cv2_imshow\n",
        "\n",
        "import numpy as np\n",
        "import cv2,glob\n",
        "\n",
        "class Tile():\n",
        "    def __init__(self, img, matrix):\n",
        "        self.mapimg = img\n",
        "        self.base = matrix\n",
        "        self.board = self.make_board()\n",
        "        self.h,self.w = self.h_w()\n",
        "        self.index = self.select()\n",
        "\n",
        "    def make_board(self):\n",
        "        return np.zeros((300,300,3),np.uint8)\n",
        "\n",
        "    def h_w(self):\n",
        "        return self.mapimg.shape[:2]\n",
        "\n",
        "    def select(self):\n",
        "        return list(zip(*np.where(self.base == 1)))\n",
        "\n",
        "    def paste_map(self):\n",
        "        for i in self.index:\n",
        "            H = i[0] * 100\n",
        "            W = i[1] * 100\n",
        "            self.board[H:H + self.h, W:W + self.w] = self.mapimg\n",
        "\n",
        "        return self.board\n",
        "\n",
        "\n",
        "def tile_matrix():\n",
        "    T = np.zeros((3,3))\n",
        "    count = 0\n",
        "    while True:\n",
        "        point = np.random.randint(0,3,2)\n",
        "        if (T[point[0]][point[1]] == 0):\n",
        "            T[point[0]][point[1]] = 1\n",
        "            count += 1\n",
        "\n",
        "        if (count == 3):\n",
        "           break\n",
        "\n",
        "    return T\n",
        "\n",
        "img1 = cv2.imread(\"Blue.png\")\n",
        "img2 = cv2.imread(\"Red.png\")\n",
        "\n",
        "for i in range(1,10):\n",
        "    base_matrix = tile_matrix()\n",
        "    t = Tile(img1,base_matrix)\n",
        "    tag = t.paste_map()\n",
        "    cv2.imwrite(\"Blue\" + str(i) + \".png\",tag)\n",
        "\n",
        "for i in range(1,10):\n",
        "    base_matrix = tile_matrix()\n",
        "    t = Tile(img2,base_matrix)\n",
        "    tag = t.paste_map()\n",
        "    cv2.imwrite(\"Red\" + str(i) + \".png\",tag)"
      ]
    },
    {
      "cell_type": "markdown",
      "source": [
        "## 手札一覧表示"
      ],
      "metadata": {
        "id": "sw3VDLE1JeJW"
      }
    },
    {
      "cell_type": "code",
      "source": [
        "import numpy as np\n",
        "import cv2\n",
        "\n",
        "def view_grid(color):\n",
        "    board = np.ones((900,900,3),np.uint8) * 255\n",
        "    count = 1\n",
        "\n",
        "    for i in range(3):\n",
        "        for j in range(3):\n",
        "            img = cv2.imread(color + str(count) + \".png\")\n",
        "            h,w = img.shape[:2]\n",
        "\n",
        "            H = i * 300\n",
        "            W = j * 300\n",
        "            board[H:H+h, W:W+w] = img\n",
        "            count += 1\n",
        "\n",
        "    y_step = 300\n",
        "    x_step = 300\n",
        "\n",
        "    board_y,board_x = board.shape[:2]\n",
        "    board[y_step:board_y:y_step, :, :] = 255\n",
        "    board[:, x_step:board_x:x_step, :] = 255\n",
        "\n",
        "    cv2_imshow(\"\",board)\n",
        "    cv2.imwrite(color + \"_grid.png\",board)\n",
        "\n",
        "view_grid(\"red\")\n",
        "view_grid(\"Blue\")"
      ],
      "metadata": {
        "id": "DJHMCNz3JhlT"
      },
      "execution_count": null,
      "outputs": []
    }
  ]
}