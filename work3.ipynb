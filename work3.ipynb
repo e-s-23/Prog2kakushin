{
  "cells": [
    {
      "cell_type": "markdown",
      "metadata": {
        "id": "view-in-github",
        "colab_type": "text"
      },
      "source": [
        "<a href=\"https://colab.research.google.com/github/e-s-23/Prog2kakushin/blob/main/work3.ipynb\" target=\"_parent\"><img src=\"https://colab.research.google.com/assets/colab-badge.svg\" alt=\"Open In Colab\"/></a>"
      ]
    },
    {
      "cell_type": "markdown",
      "metadata": {
        "id": "weB2CKECAkug"
      },
      "source": [
        "#陣取りゲームプログラム\n",
        "詳細はREADME"
      ]
    },
    {
      "cell_type": "markdown",
      "metadata": {
        "id": "iYVN0LPUK0Sf"
      },
      "source": [
        "## 元画像作成"
      ]
    },
    {
      "cell_type": "code",
      "execution_count": null,
      "metadata": {
        "id": "wxoRDveWK3km"
      },
      "outputs": [],
      "source": [
        "import numpy as np\n",
        "import cv2,glob\n",
        "\n",
        "board1 = np.zeros((100,100,3),np.uint8)\n",
        "board2 = np.zeros((100,100,3),np.uint8)\n",
        "\n",
        "cv2.rectangle(board1,(0,0),(100,100),color = (255,0,0),thickness = -1)\n",
        "cv2.rectangle(board2,(0,0),(100,100),color = (0,0,255),thickness = -1)\n",
        "\n",
        "cv2.imwrite(\"Blue.png\",board1)\n",
        "cv2.imwrite(\"Red.png\",board2)"
      ]
    },
    {
      "cell_type": "markdown",
      "metadata": {
        "id": "VYwk4yiVJNHv"
      },
      "source": [
        "## 手札作成"
      ]
    },
    {
      "cell_type": "code",
      "execution_count": null,
      "metadata": {
        "id": "P2GabqOiAf6f"
      },
      "outputs": [],
      "source": [
        "import numpy as np\n",
        "import cv2,sys\n",
        "from google.colab.patches import cv2_imshow\n",
        "\n",
        "class Tile():\n",
        "    def __init__(self, img, matrix):\n",
        "        self.mapimg = img\n",
        "        self.base = matrix\n",
        "        self.board = self.make_board()\n",
        "        self.h,self.w = self.h_w()\n",
        "        self.index = self.select()\n",
        "\n",
        "    def make_board(self):\n",
        "        return np.zeros((300,300,3),np.uint8)\n",
        "\n",
        "    def h_w(self):\n",
        "        return self.mapimg.shape[:2]\n",
        "\n",
        "    def select(self):\n",
        "        return list(zip(*np.where(self.base == 1)))\n",
        "\n",
        "    def paste_map(self):\n",
        "        for i in self.index:\n",
        "            H = i[0] * 100\n",
        "            W = i[1] * 100\n",
        "            self.board[H:H + self.h, W:W + self.w] = self.mapimg\n",
        "\n",
        "        return self.board\n",
        "\n",
        "\n",
        "def tile_matrix():\n",
        "    T = np.zeros((3,3))\n",
        "    count = 0\n",
        "    while True:\n",
        "        point = np.random.randint(0,3,2)\n",
        "        if (T[point[0]][point[1]] == 0):\n",
        "            T[point[0]][point[1]] = 1\n",
        "            count += 1\n",
        "\n",
        "        if (count == 3):\n",
        "           break\n",
        "\n",
        "    return T\n",
        "\n",
        "img1 = cv2.imread(\"Blue.png\")\n",
        "img2 = cv2.imread(\"Red.png\")\n",
        "\n",
        "for i in range(1,10):\n",
        "    base_matrix = tile_matrix()\n",
        "    t = Tile(img1,base_matrix)\n",
        "    tag = t.paste_map()\n",
        "    cv2.imwrite(\"Blue\" + str(i) + \".png\",tag)\n",
        "\n",
        "for i in range(1,10):\n",
        "    base_matrix = tile_matrix()\n",
        "    t = Tile(img2,base_matrix)\n",
        "    tag = t.paste_map()\n",
        "    cv2.imwrite(\"Red\" + str(i) + \".png\",tag)"
      ]
    },
    {
      "cell_type": "markdown",
      "metadata": {
        "id": "sw3VDLE1JeJW"
      },
      "source": [
        "## 手札一覧作成"
      ]
    },
    {
      "cell_type": "code",
      "execution_count": null,
      "metadata": {
        "id": "DJHMCNz3JhlT"
      },
      "outputs": [],
      "source": [
        "import numpy as np\n",
        "import cv2\n",
        "from google.colab.patches import cv2_imshow\n",
        "\n",
        "def view_grid(color):\n",
        "    board = np.ones((900,900,3),np.uint8) * 255\n",
        "    count = 1\n",
        "\n",
        "    for i in range(3):\n",
        "        for j in range(3):\n",
        "            img = cv2.imread(color + str(count) + \".png\")\n",
        "            h,w = img.shape[:2]\n",
        "\n",
        "            H = i * 300\n",
        "            W = j * 300\n",
        "            board[H:H+h, W:W+w] = img\n",
        "            count += 1\n",
        "\n",
        "    y_step = 300\n",
        "    x_step = 300\n",
        "\n",
        "    board_y,board_x = board.shape[:2]\n",
        "    board[y_step:board_y:y_step, :, :] = 255\n",
        "    board[:, x_step:board_x:x_step, :] = 255\n",
        "\n",
        "    cv2.imwrite(color + \"_grid.png\",board)\n",
        "\n",
        "view_grid(\"Red\")\n",
        "view_grid(\"Blue\")\n",
        "\n",
        "Red = cv2.imread(\"Red_grid.png\")\n",
        "Blue = cv2.imread(\"Blue_grid.png\")\n",
        "merge = np.hstack((Red, Blue))\n",
        "w,h = merge.shape[:2]\n",
        "re_merge = cv2.resize(merge, (int(w * 0.9), int(h * 0.25)))\n",
        "cv2_imshow(re_merge)"
      ]
    },
    {
      "cell_type": "markdown",
      "source": [
        "## 陣取りゲーム 一人用ver."
      ],
      "metadata": {
        "id": "1FUVen0oPRZD"
      }
    },
    {
      "cell_type": "code",
      "source": [
        "import numpy as np\n",
        "import cv2\n",
        "\n",
        "def view_grid(board):\n",
        "        y_step = 100\n",
        "        x_step = 100\n",
        "\n",
        "        board_y,board_x = board.shape[:2]\n",
        "        board[y_step:board_y:y_step, :, :] = 255\n",
        "        board[:, x_step:board_x:x_step, :] = 255\n",
        "        cv2_imshow(board)\n",
        "\n",
        "def _rot(IMG,DEG):\n",
        "    if(DEG == 0):\n",
        "        d = input(\"何回転させますか:\")\n",
        "\n",
        "        if(d.isdecimal() == True):\n",
        "            IMG = np.rot90(IMG,-int(d))\n",
        "\n",
        "        else:\n",
        "            print(\"再入力\")\n",
        "            IMG = _rot(IMG,0)\n",
        "\n",
        "    elif(DEG == 1):\n",
        "        d = np.random.randint(0,4)\n",
        "        print(f'{d}{\"回転です\"}')\n",
        "        IMG = np.rot90(IMG,-d)\n",
        "\n",
        "    return IMG\n",
        "\n",
        "def add_card(ID,degit):\n",
        "    global game_board\n",
        "    select_card = _rot(cv2.imread(ID + \".png\"),degit)\n",
        "    game_board = cv2.addWeighted(game_board,0.9,select_card,1,0)\n",
        "    view_grid(game_board)\n",
        "\n",
        "def check_var(s):\n",
        "    if(s.isdecimal() == True):\n",
        "        if(1 <= int(s) and int(s) <= 9):\n",
        "            pass\n",
        "\n",
        "        else:\n",
        "            s = check_var(input(\"番号を再入力してください:\"))\n",
        "\n",
        "    else:\n",
        "        s = check_var(input(\"番号を再入力してください:\"))\n",
        "\n",
        "    return int(s)\n",
        "\n",
        "a = np.arange(1,10)\n",
        "blue_id = np.random.permutation(a)\n",
        "\n",
        "prop = cv2.imread(\"White.png\")\n",
        "game_board = np.zeros((300,300,3),np.uint8)\n",
        "\n",
        "for i in range(9):\n",
        "    print(f'{i+1}{\"ターン目\"}')\n",
        "    id = check_var(input(\"Red:どの番号の札を出しますか:\"))\n",
        "    data = str(\"Red\" + str(id))\n",
        "    add_card(data,0)\n",
        "    print(f'{\"Blueは\"}{blue_id[i]}{\"の札を出しました\"}')\n",
        "    data = str(\"Blue\" + str(blue_id[i]))\n",
        "    add_card(data,1)\n",
        "\n",
        "h = game_board.shape[0]\n",
        "w = game_board.shape[1]\n",
        "\n",
        "for iy in range(h):\n",
        "    for ix in range(w):\n",
        "        game_board[iy,ix][0] *= 0.9\n",
        "\n",
        "print(\"result\")\n",
        "cv2_imshow(game_board)\n",
        "cv2.imwrite(\"result.png\",game_board)\n"
      ],
      "metadata": {
        "id": "RS04w4XpPkLb"
      },
      "execution_count": null,
      "outputs": []
    },
    {
      "cell_type": "markdown",
      "source": [
        "## 陣取りゲーム 二人用ver."
      ],
      "metadata": {
        "id": "HnxpF3mtSav-"
      }
    },
    {
      "cell_type": "code",
      "source": [
        "import numpy as np\n",
        "import cv2\n",
        "\n",
        "def view_grid(board):\n",
        "        y_step = 100\n",
        "        x_step = 100\n",
        "\n",
        "        board_y,board_x = board.shape[:2]\n",
        "        board[y_step:board_y:y_step, :, :] = 255\n",
        "        board[:, x_step:board_x:x_step, :] = 255\n",
        "        cv2_imshow(board)\n",
        "        cv2.waitKey(1000)\n",
        "\n",
        "def _rot(IMG):\n",
        "    d = input(\"何回転させますか:\")\n",
        "\n",
        "    if(d.isdecimal() == True):\n",
        "        IMG = np.rot90(IMG,-int(d))\n",
        "\n",
        "    else:\n",
        "        print(\"再入力\")\n",
        "        IMG = _rot(IMG)\n",
        "\n",
        "    return IMG\n",
        "\n",
        "def add_card(ID):\n",
        "    global game_board\n",
        "    select_card = _rot(cv2.imread(ID + \".png\"))\n",
        "    game_board = cv2.addWeighted(game_board,0.9,select_card,1,0)\n",
        "    view_grid(game_board)\n",
        "\n",
        "def check_var(s):\n",
        "    if(s.isdecimal() == True):\n",
        "        if(1 <= int(s) and int(s) <= 9):\n",
        "            pass\n",
        "\n",
        "        else:\n",
        "            s = check_var(input(\"番号を再入力してください:\"))\n",
        "\n",
        "    else:\n",
        "        s = check_var(input(\"番号を再入力してください:\"))\n",
        "\n",
        "    return s\n",
        "\n",
        "game_board = np.zeros((300,300,3),np.uint8)\n",
        "\n",
        "for i in range(9):\n",
        "    print(f'{i+1}{\"ターン目\"}')\n",
        "    id = check_var(input(\"Red:どの番号の札を出しますか:\"))\n",
        "    data = str(\"Red\" + str(id))\n",
        "    add_card(data)\n",
        "    id = check_var(input(\"Blue:どの番号の札を出しますか:\"))\n",
        "    data = str(\"Blue\" + str(id))\n",
        "    add_card(data)\n",
        "\n",
        "h = game_board.shape[0]\n",
        "w = game_board.shape[1]\n",
        "\n",
        "for iy in range(h):\n",
        "    for ix in range(w):\n",
        "        game_board[iy,ix][0] *= 0.9\n",
        "\n",
        "print(\"result\")\n",
        "cv2_imshow(game_board)\n",
        "cv2.imwrite(\"result.png\",game_board)\n"
      ],
      "metadata": {
        "id": "lDVRRvXNSjIX"
      },
      "execution_count": null,
      "outputs": []
    },
    {
      "cell_type": "markdown",
      "source": [
        "## 結果表示"
      ],
      "metadata": {
        "id": "ndsuIsyaTEdv"
      }
    },
    {
      "cell_type": "code",
      "source": [
        "import numpy as np\n",
        "import cv2\n",
        "\n",
        "def average_rgb(IMG,H,W):\n",
        "    sum_r = 0\n",
        "    sum_g = 0\n",
        "    sum_b = 0\n",
        "\n",
        "    for iy in range(H):\n",
        "      for ix in range(W):\n",
        "        sum_b += IMG[iy,ix][0]\n",
        "        sum_g += IMG[iy,ix][1]\n",
        "        sum_r += IMG[iy,ix][2]\n",
        "\n",
        "    avg_r = int(sum_r / (W * H))\n",
        "    avg_g = int(sum_g / (W * H))\n",
        "    avg_b = int(sum_b / (W * H))\n",
        "\n",
        "    return avg_r,avg_g,avg_b\n",
        "\n",
        "img = cv2.imread(\"result.png\")\n",
        "\n",
        "h = img.shape[0]\n",
        "w = img.shape[1]\n",
        "\n",
        "r,g,b = average_rgb(img,h,w)\n",
        "\n",
        "if(r > b):\n",
        "  print(f'{\"Redの勝利！ Red score = \"}{str(r)}{\"  Blue score = \"}{b}')\n",
        "\n",
        "elif(r < b):\n",
        "  print(f'{\"Blueの勝利！ Blue score = \"}{str(b)}{\"  Red score = \"}{r}')\n",
        "\n",
        "elif(r == b):\n",
        "  print(f'{\"引き分け！ score = \"}{str(b)}')"
      ],
      "metadata": {
        "id": "AuhBxfTZTIgQ"
      },
      "execution_count": null,
      "outputs": []
    }
  ],
  "metadata": {
    "colab": {
      "provenance": [],
      "authorship_tag": "ABX9TyPjyl7X43r6z91Df+G2FzZn",
      "include_colab_link": true
    },
    "kernelspec": {
      "display_name": "Python 3",
      "name": "python3"
    },
    "language_info": {
      "name": "python"
    }
  },
  "nbformat": 4,
  "nbformat_minor": 0
}