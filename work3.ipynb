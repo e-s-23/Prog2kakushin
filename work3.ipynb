{
  "nbformat": 4,
  "nbformat_minor": 0,
  "metadata": {
    "colab": {
      "provenance": [],
      "authorship_tag": "ABX9TyN7hAz5luLtjv6iRQTKOBUY",
      "include_colab_link": true
    },
    "kernelspec": {
      "name": "python3",
      "display_name": "Python 3"
    },
    "language_info": {
      "name": "python"
    }
  },
  "cells": [
    {
      "cell_type": "markdown",
      "metadata": {
        "id": "view-in-github",
        "colab_type": "text"
      },
      "source": [
        "<a href=\"https://colab.research.google.com/github/e-s-23/Prog2kakushin/blob/main/work3.ipynb\" target=\"_parent\"><img src=\"https://colab.research.google.com/assets/colab-badge.svg\" alt=\"Open In Colab\"/></a>"
      ]
    },
    {
      "cell_type": "markdown",
      "source": [
        "#画像処理を用いたプログラム\n",
        "現時点では  \n",
        "1.ペイントソフトなどで作成した画像を使用するプログラム  \n",
        "2.スクレピングなどで拾ってきた画像を扱うプログラム  \n",
        "を考えている。"
      ],
      "metadata": {
        "id": "weB2CKECAkug"
      }
    },
    {
      "cell_type": "code",
      "execution_count": null,
      "metadata": {
        "id": "P2GabqOiAf6f"
      },
      "outputs": [],
      "source": []
    }
  ]
}