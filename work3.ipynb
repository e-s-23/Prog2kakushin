{
  "cells": [
    {
      "cell_type": "markdown",
      "metadata": {
        "id": "view-in-github",
        "colab_type": "text"
      },
      "source": [
        "<a href=\"https://colab.research.google.com/github/e-s-23/Prog2kakushin/blob/main/work3.ipynb\" target=\"_parent\"><img src=\"https://colab.research.google.com/assets/colab-badge.svg\" alt=\"Open In Colab\"/></a>"
      ]
    },
    {
      "cell_type": "markdown",
      "metadata": {
        "id": "weB2CKECAkug"
      },
      "source": [
        "#陣取りゲームプログラム\n",
        "詳細はREADME"
      ]
    },
    {
      "cell_type": "markdown",
      "metadata": {
        "id": "iYVN0LPUK0Sf"
      },
      "source": [
        "## 元画像作成"
      ]
    },
    {
      "cell_type": "code",
      "execution_count": null,
      "metadata": {
        "colab": {
          "base_uri": "https://localhost:8080/"
        },
        "id": "wxoRDveWK3km",
        "outputId": "b5c9e229-4cf6-4e79-e059-cbf25e940df5"
      },
      "outputs": [
        {
          "data": {
            "text/plain": [
              "True"
            ]
          },
          "execution_count": 10,
          "metadata": {},
          "output_type": "execute_result"
        }
      ],
      "source": [
        "import numpy as np\n",
        "import cv2,glob\n",
        "\n",
        "board1 = np.zeros((100,100,3),np.uint8)\n",
        "board2 = np.zeros((100,100,3),np.uint8)\n",
        "\n",
        "cv2.rectangle(board1,(0,0),(100,100),color = (255,0,0),thickness = -1)\n",
        "cv2.rectangle(board2,(0,0),(100,100),color = (0,0,255),thickness = -1)\n",
        "\n",
        "cv2.imwrite(\"Blue.png\",board1)\n",
        "cv2.imwrite(\"Red.png\",board2)"
      ]
    },
    {
      "cell_type": "markdown",
      "metadata": {
        "id": "VYwk4yiVJNHv"
      },
      "source": [
        "## 手札作成"
      ]
    },
    {
      "cell_type": "code",
      "execution_count": null,
      "metadata": {
        "id": "P2GabqOiAf6f"
      },
      "outputs": [],
      "source": [
        "import numpy as np\n",
        "import cv2,sys\n",
        "from google.colab.patches import cv2_imshow\n",
        "\n",
        "class Tile():\n",
        "    def __init__(self, img, matrix):\n",
        "        self.mapimg = img\n",
        "        self.base = matrix\n",
        "        self.board = self.make_board()\n",
        "        self.h,self.w = self.h_w()\n",
        "        self.index = self.select()\n",
        "\n",
        "    def make_board(self):\n",
        "        return np.zeros((300,300,3),np.uint8)\n",
        "\n",
        "    def h_w(self):\n",
        "        return self.mapimg.shape[:2]\n",
        "\n",
        "    def select(self):\n",
        "        return list(zip(*np.where(self.base == 1)))\n",
        "\n",
        "    def paste_map(self):\n",
        "        for i in self.index:\n",
        "            H = i[0] * 100\n",
        "            W = i[1] * 100\n",
        "            self.board[H:H + self.h, W:W + self.w] = self.mapimg\n",
        "\n",
        "        return self.board\n",
        "\n",
        "\n",
        "def tile_matrix():\n",
        "    T = np.zeros((3,3))\n",
        "    count = 0\n",
        "    while True:\n",
        "        point = np.random.randint(0,3,2)\n",
        "        if (T[point[0]][point[1]] == 0):\n",
        "            T[point[0]][point[1]] = 1\n",
        "            count += 1\n",
        "\n",
        "        if (count == 3):\n",
        "           break\n",
        "\n",
        "    return T\n",
        "\n",
        "img1 = cv2.imread(\"Blue.png\")\n",
        "img2 = cv2.imread(\"Red.png\")\n",
        "\n",
        "for i in range(1,10):\n",
        "    base_matrix = tile_matrix()\n",
        "    t = Tile(img1,base_matrix)\n",
        "    tag = t.paste_map()\n",
        "    cv2.imwrite(\"Blue\" + str(i) + \".png\",tag)\n",
        "\n",
        "for i in range(1,10):\n",
        "    base_matrix = tile_matrix()\n",
        "    t = Tile(img2,base_matrix)\n",
        "    tag = t.paste_map()\n",
        "    cv2.imwrite(\"Red\" + str(i) + \".png\",tag)"
      ]
    },
    {
      "cell_type": "markdown",
      "metadata": {
        "id": "sw3VDLE1JeJW"
      },
      "source": [
        "## 手札一覧作成"
      ]
    },
    {
      "cell_type": "code",
      "execution_count": 33,
      "metadata": {
        "colab": {
          "base_uri": "https://localhost:8080/",
          "height": 467
        },
        "id": "DJHMCNz3JhlT",
        "outputId": "e4ca08a6-37ab-4f13-a32e-39a6424e4cb5"
      },
      "outputs": [
        {
          "output_type": "display_data",
          "data": {
            "text/plain": [
              "<PIL.Image.Image image mode=RGB size=810x450>"
            ],
            "image/png": "[encoded data removed]"
          },
          "metadata": {}
        }
      ],
      "source": [
        "import numpy as np\n",
        "import cv2\n",
        "from google.colab.patches import cv2_imshow\n",
        "\n",
        "def view_grid(color):\n",
        "    board = np.ones((900,900,3),np.uint8) * 255\n",
        "    count = 1\n",
        "\n",
        "    for i in range(3):\n",
        "        for j in range(3):\n",
        "            img = cv2.imread(color + str(count) + \".png\")\n",
        "            h,w = img.shape[:2]\n",
        "\n",
        "            H = i * 300\n",
        "            W = j * 300\n",
        "            board[H:H+h, W:W+w] = img\n",
        "            count += 1\n",
        "\n",
        "    y_step = 300\n",
        "    x_step = 300\n",
        "\n",
        "    board_y,board_x = board.shape[:2]\n",
        "    board[y_step:board_y:y_step, :, :] = 255\n",
        "    board[:, x_step:board_x:x_step, :] = 255\n",
        "\n",
        "    cv2.imwrite(color + \"_grid.png\",board)\n",
        "\n",
        "view_grid(\"Red\")\n",
        "view_grid(\"Blue\")\n",
        "\n",
        "Red = cv2.imread(\"Red_grid.png\")\n",
        "Blue = cv2.imread(\"Blue_grid.png\")\n",
        "merge = np.hstack((Red, Blue))\n",
        "w,h = merge.shape[:2]\n",
        "re_merge = cv2.resize(merge, (int(w * 0.9), int(h * 0.25)))\n",
        "cv2_imshow(re_merge)"
      ]
    },
    {
      "cell_type": "markdown",
      "source": [
        "## 陣取りゲーム 一人用ver."
      ],
      "metadata": {
        "id": "1FUVen0oPRZD"
      }
    },
    {
      "cell_type": "code",
      "source": [
        "import numpy as np\n",
        "import cv2\n",
        "\n",
        "def view_grid(board):\n",
        "        y_step = 100\n",
        "        x_step = 100\n",
        "\n",
        "        board_y,board_x = board.shape[:2]\n",
        "        board[y_step:board_y:y_step, :, :] = 255\n",
        "        board[:, x_step:board_x:x_step, :] = 255\n",
        "        cv2_imshow(board)\n",
        "\n",
        "def _rot(IMG,DEG):\n",
        "    if(DEG == 0):\n",
        "        d = input(\"何回転させますか:\")\n",
        "\n",
        "        if(d.isdecimal() == True):\n",
        "            IMG = np.rot90(IMG,-int(d))\n",
        "\n",
        "        else:\n",
        "            print(\"再入力\")\n",
        "            IMG = _rot(IMG,0)\n",
        "\n",
        "    elif(DEG == 1):\n",
        "        d = np.random.randint(0,4)\n",
        "        print(f'{d}{\"回転です\"}')\n",
        "        IMG = np.rot90(IMG,-d)\n",
        "\n",
        "    return IMG\n",
        "\n",
        "def add_card(ID,degit):\n",
        "    global game_board\n",
        "    select_card = _rot(cv2.imread(ID + \".png\"),degit)\n",
        "    game_board = cv2.addWeighted(game_board,0.9,select_card,1,0)\n",
        "    view_grid(game_board)\n",
        "\n",
        "def check_var(s):\n",
        "    if(s.isdecimal() == True):\n",
        "        if(1 <= int(s) and int(s) <= 9):\n",
        "            pass\n",
        "\n",
        "        else:\n",
        "            s = check_var(input(\"番号を再入力してください:\"))\n",
        "\n",
        "    else:\n",
        "        s = check_var(input(\"番号を再入力してください:\"))\n",
        "\n",
        "    return int(s)\n",
        "\n",
        "a = np.arange(1,10)\n",
        "blue_id = np.random.permutation(a)\n",
        "\n",
        "prop = cv2.imread(\"White.png\")\n",
        "game_board = np.zeros((300,300,3),np.uint8)\n",
        "\n",
        "for i in range(9):\n",
        "    print(f'{i+1}{\"ターン目\"}')\n",
        "    id = check_var(input(\"Red:どの番号の札を出しますか:\"))\n",
        "    data = str(\"Red\" + str(id))\n",
        "    add_card(data,0)\n",
        "    print(f'{\"Blueは\"}{blue_id[i]}{\"の札を出しました\"}')\n",
        "    data = str(\"Blue\" + str(blue_id[i]))\n",
        "    add_card(data,1)\n",
        "\n",
        "h = game_board.shape[0]\n",
        "w = game_board.shape[1]\n",
        "\n",
        "for iy in range(h):\n",
        "    for ix in range(w):\n",
        "        game_board[iy,ix][0] *= 0.9\n",
        "\n",
        "print(\"result\")\n",
        "cv2_imshow(game_board)\n",
        "cv2.imwrite(\"result.png\",game_board)\n"
      ],
      "metadata": {
        "colab": {
          "base_uri": "https://localhost:8080/",
          "height": 1000
        },
        "id": "RS04w4XpPkLb",
        "outputId": "e41bf31f-6b64-446c-8c41-eef1098ad51f"
      },
      "execution_count": 43,
      "outputs": [
        {
          "name": "stdout",
          "output_type": "stream",
          "text": [
            "1ターン目\n",
            "Red:どの番号の札を出しますか:9\n",
            "何回転させますか:0\n"
          ]
        },
        {
          "output_type": "display_data",
          "data": {
            "text/plain": [
              "<PIL.Image.Image image mode=RGB size=300x300>"
            ],
            "image/png": "[encoded data removed]"
          },
          "metadata": {}
        },
        {
          "output_type": "stream",
          "name": "stdout",
          "text": [
            "Blueは8の札を出しました\n",
            "1回転です\n"
          ]
        },
        {
          "output_type": "display_data",
          "data": {
            "text/plain": [
              "<PIL.Image.Image image mode=RGB size=300x300>"
            ],
            "image/png": "[encoded data removed]"
          },
          "metadata": {}
        },
        {
          "name": "stdout",
          "output_type": "stream",
          "text": [
            "2ターン目\n",
            "Red:どの番号の札を出しますか:5\n",
            "何回転させますか:0\n"
          ]
        },
        {
          "output_type": "display_data",
          "data": {
            "text/plain": [
              "<PIL.Image.Image image mode=RGB size=300x300>"
            ],
            "image/png": "[encoded data removed]"
          },
          "metadata": {}
        },
        {
          "output_type": "stream",
          "name": "stdout",
          "text": [
            "Blueは3の札を出しました\n",
            "2回転です\n"
          ]
        },
        {
          "output_type": "display_data",
          "data": {
            "text/plain": [
              "<PIL.Image.Image image mode=RGB size=300x300>"
            ],
            "image/png": "[encoded data removed]"
          },
          "metadata": {}
        },
        {
          "name": "stdout",
          "output_type": "stream",
          "text": [
            "3ターン目\n",
            "Red:どの番号の札を出しますか:1\n",
            "何回転させますか:0\n"
          ]
        },
        {
          "output_type": "display_data",
          "data": {
            "text/plain": [
              "<PIL.Image.Image image mode=RGB size=300x300>"
            ],
            "image/png": "[encoded data removed]"
          },
          "metadata": {}
        },
        {
          "output_type": "stream",
          "name": "stdout",
          "text": [
            "Blueは7の札を出しました\n",
            "1回転です\n"
          ]
        },
        {
          "output_type": "display_data",
          "data": {
            "text/plain": [
              "<PIL.Image.Image image mode=RGB size=300x300>"
            ],
            "image/png": "[encoded data removed]"
          },
          "metadata": {}
        },
        {
          "name": "stdout",
          "output_type": "stream",
          "text": [
            "4ターン目\n",
            "Red:どの番号の札を出しますか:4\n",
            "何回転させますか:0\n"
          ]
        },
        {
          "output_type": "display_data",
          "data": {
            "text/plain": [
              "<PIL.Image.Image image mode=RGB size=300x300>"
            ],
            "image/png": "[encoded data removed]"
          },
          "metadata": {}
        },
        {
          "output_type": "stream",
          "name": "stdout",
          "text": [
            "Blueは4の札を出しました\n",
            "1回転です\n"
          ]
        },
        {
          "output_type": "display_data",
          "data": {
            "text/plain": [
              "<PIL.Image.Image image mode=RGB size=300x300>"
            ],
            "image/png": "[encoded data removed]"
          },
          "metadata": {}
        },
        {
          "name": "stdout",
          "output_type": "stream",
          "text": [
            "5ターン目\n",
            "Red:どの番号の札を出しますか:7\n",
            "何回転させますか:0\n"
          ]
        },
        {
          "output_type": "display_data",
          "data": {
            "text/plain": [
              "<PIL.Image.Image image mode=RGB size=300x300>"
            ],
            "image/png": "[encoded data removed]"
          },
          "metadata": {}
        },
        {
          "output_type": "stream",
          "name": "stdout",
          "text": [
            "Blueは6の札を出しました\n",
            "2回転です\n"
          ]
        },
        {
          "output_type": "display_data",
          "data": {
            "text/plain": [
              "<PIL.Image.Image image mode=RGB size=300x300>"
            ],
            "image/png": "[encoded data removed]"
          },
          "metadata": {}
        },
        {
          "name": "stdout",
          "output_type": "stream",
          "text": [
            "6ターン目\n",
            "Red:どの番号の札を出しますか:8\n",
            "何回転させますか:0\n"
          ]
        },
        {
          "output_type": "display_data",
          "data": {
            "text/plain": [
              "<PIL.Image.Image image mode=RGB size=300x300>"
            ],
            "image/png": "[encoded data removed]"
          },
          "metadata": {}
        },
        {
          "output_type": "stream",
          "name": "stdout",
          "text": [
            "Blueは5の札を出しました\n",
            "1回転です\n"
          ]
        },
        {
          "output_type": "display_data",
          "data": {
            "text/plain": [
              "<PIL.Image.Image image mode=RGB size=300x300>"
            ],
            "image/png": "[encoded data removed]"
          },
          "metadata": {}
        },
        {
          "name": "stdout",
          "output_type": "stream",
          "text": [
            "7ターン目\n",
            "Red:どの番号の札を出しますか:6\n",
            "何回転させますか:0\n"
          ]
        },
        {
          "output_type": "display_data",
          "data": {
            "text/plain": [
              "<PIL.Image.Image image mode=RGB size=300x300>"
            ],
            "image/png": "[encoded data removed]"
          },
          "metadata": {}
        },
        {
          "output_type": "stream",
          "name": "stdout",
          "text": [
            "Blueは1の札を出しました\n",
            "2回転です\n"
          ]
        },
        {
          "output_type": "display_data",
          "data": {
            "text/plain": [
              "<PIL.Image.Image image mode=RGB size=300x300>"
            ],
            "image/png": "[encoded data removed]"
          },
          "metadata": {}
        },
        {
          "name": "stdout",
          "output_type": "stream",
          "text": [
            "8ターン目\n",
            "Red:どの番号の札を出しますか:3\n",
            "何回転させますか:0\n"
          ]
        },
        {
          "output_type": "display_data",
          "data": {
            "text/plain": [
              "<PIL.Image.Image image mode=RGB size=300x300>"
            ],
            "image/png": "[encoded data removed]"
          },
          "metadata": {}
        },
        {
          "output_type": "stream",
          "name": "stdout",
          "text": [
            "Blueは2の札を出しました\n",
            "2回転です\n"
          ]
        },
        {
          "output_type": "display_data",
          "data": {
            "text/plain": [
              "<PIL.Image.Image image mode=RGB size=300x300>"
            ],
            "image/png": "[encoded data removed]"
          },
          "metadata": {}
        },
        {
          "name": "stdout",
          "output_type": "stream",
          "text": [
            "9ターン目\n",
            "Red:どの番号の札を出しますか:2\n",
            "何回転させますか:0\n"
          ]
        },
        {
          "output_type": "display_data",
          "data": {
            "text/plain": [
              "<PIL.Image.Image image mode=RGB size=300x300>"
            ],
            "image/png": "[encoded data removed]"
          },
          "metadata": {}
        },
        {
          "output_type": "stream",
          "name": "stdout",
          "text": [
            "Blueは9の札を出しました\n",
            "1回転です\n"
          ]
        },
        {
          "output_type": "display_data",
          "data": {
            "text/plain": [
              "<PIL.Image.Image image mode=RGB size=300x300>"
            ],
            "image/png": "[encoded data removed]"
          },
          "metadata": {}
        },
        {
          "output_type": "stream",
          "name": "stdout",
          "text": [
            "result\n"
          ]
        },
        {
          "output_type": "display_data",
          "data": {
            "text/plain": [
              "<PIL.Image.Image image mode=RGB size=300x300>"
            ],
            "image/png": "[encoded data removed]"
          },
          "metadata": {}
        },
        {
          "output_type": "execute_result",
          "data": {
            "text/plain": [
              "True"
            ]
          },
          "metadata": {},
          "execution_count": 43
        }
      ]
    },
    {
      "cell_type": "markdown",
      "source": [
        "## 陣取りゲーム 二人用ver."
      ],
      "metadata": {
        "id": "HnxpF3mtSav-"
      }
    },
    {
      "cell_type": "code",
      "source": [
        "import numpy as np\n",
        "import cv2\n",
        "\n",
        "def view_grid(board):\n",
        "        y_step = 100\n",
        "        x_step = 100\n",
        "\n",
        "        board_y,board_x = board.shape[:2]\n",
        "        board[y_step:board_y:y_step, :, :] = 255\n",
        "        board[:, x_step:board_x:x_step, :] = 255\n",
        "        cv2_imshow(board)\n",
        "        cv2.waitKey(1000)\n",
        "\n",
        "def _rot(IMG):\n",
        "    d = input(\"何回転させますか:\")\n",
        "\n",
        "    if(d.isdecimal() == True):\n",
        "        IMG = np.rot90(IMG,-int(d))\n",
        "\n",
        "    else:\n",
        "        print(\"再入力\")\n",
        "        IMG = _rot(IMG)\n",
        "\n",
        "    return IMG\n",
        "\n",
        "def add_card(ID):\n",
        "    global game_board\n",
        "    select_card = _rot(cv2.imread(ID + \".png\"))\n",
        "    game_board = cv2.addWeighted(game_board,0.9,select_card,1,0)\n",
        "    view_grid(game_board)\n",
        "\n",
        "def check_var(s):\n",
        "    if(s.isdecimal() == True):\n",
        "        if(1 <= int(s) and int(s) <= 9):\n",
        "            pass\n",
        "\n",
        "        else:\n",
        "            s = check_var(input(\"番号を再入力してください:\"))\n",
        "\n",
        "    else:\n",
        "        s = check_var(input(\"番号を再入力してください:\"))\n",
        "\n",
        "    return s\n",
        "\n",
        "game_board = np.zeros((300,300,3),np.uint8)\n",
        "\n",
        "for i in range(9):\n",
        "    print(f'{i+1}{\"ターン目\"}')\n",
        "    id = check_var(input(\"Red:どの番号の札を出しますか:\"))\n",
        "    data = str(\"Red\" + str(id))\n",
        "    add_card(data)\n",
        "    id = check_var(input(\"Blue:どの番号の札を出しますか:\"))\n",
        "    data = str(\"Blue\" + str(id))\n",
        "    add_card(data)\n",
        "\n",
        "h = game_board.shape[0]\n",
        "w = game_board.shape[1]\n",
        "\n",
        "for iy in range(h):\n",
        "    for ix in range(w):\n",
        "        game_board[iy,ix][0] *= 0.9\n",
        "\n",
        "print(\"result\")\n",
        "cv2_imshow(game_board)\n",
        "cv2.imwrite(\"result.png\",game_board)\n"
      ],
      "metadata": {
        "colab": {
          "base_uri": "https://localhost:8080/",
          "height": 1000
        },
        "id": "lDVRRvXNSjIX",
        "outputId": "ce7f3c20-1590-41cb-f4e9-ac1350fb3c2b"
      },
      "execution_count": 44,
      "outputs": [
        {
          "name": "stdout",
          "output_type": "stream",
          "text": [
            "1ターン目\n",
            "Red:どの番号の札を出しますか:1\n",
            "何回転させますか:a\n",
            "再入力\n",
            "何回転させますか:0\n"
          ]
        },
        {
          "output_type": "display_data",
          "data": {
            "text/plain": [
              "<PIL.Image.Image image mode=RGB size=300x300>"
            ],
            "image/png": "[encoded data removed]"
          },
          "metadata": {}
        },
        {
          "name": "stdout",
          "output_type": "stream",
          "text": [
            "Blue:どの番号の札を出しますか:2\n",
            "何回転させますか:a\n",
            "再入力\n",
            "何回転させますか:0\n"
          ]
        },
        {
          "output_type": "display_data",
          "data": {
            "text/plain": [
              "<PIL.Image.Image image mode=RGB size=300x300>"
            ],
            "image/png": "[encoded data removed]"
          },
          "metadata": {}
        },
        {
          "name": "stdout",
          "output_type": "stream",
          "text": [
            "2ターン目\n",
            "Red:どの番号の札を出しますか:3\n",
            "何回転させますか:0\n"
          ]
        },
        {
          "output_type": "display_data",
          "data": {
            "text/plain": [
              "<PIL.Image.Image image mode=RGB size=300x300>"
            ],
            "image/png": "[encoded data removed]"
          },
          "metadata": {}
        },
        {
          "name": "stdout",
          "output_type": "stream",
          "text": [
            "Blue:どの番号の札を出しますか:4\n",
            "何回転させますか:0\n"
          ]
        },
        {
          "output_type": "display_data",
          "data": {
            "text/plain": [
              "<PIL.Image.Image image mode=RGB size=300x300>"
            ],
            "image/png": "[encoded data removed]"
          },
          "metadata": {}
        },
        {
          "name": "stdout",
          "output_type": "stream",
          "text": [
            "3ターン目\n",
            "Red:どの番号の札を出しますか:5\n",
            "何回転させますか:0\n"
          ]
        },
        {
          "output_type": "display_data",
          "data": {
            "text/plain": [
              "<PIL.Image.Image image mode=RGB size=300x300>"
            ],
            "image/png": "[encoded data removed]"
          },
          "metadata": {}
        },
        {
          "name": "stdout",
          "output_type": "stream",
          "text": [
            "Blue:どの番号の札を出しますか:6\n",
            "何回転させますか:0\n"
          ]
        },
        {
          "output_type": "display_data",
          "data": {
            "text/plain": [
              "<PIL.Image.Image image mode=RGB size=300x300>"
            ],
            "image/png": "[encoded data removed]"
          },
          "metadata": {}
        },
        {
          "name": "stdout",
          "output_type": "stream",
          "text": [
            "4ターン目\n",
            "Red:どの番号の札を出しますか:7\n",
            "何回転させますか:0\n"
          ]
        },
        {
          "output_type": "display_data",
          "data": {
            "text/plain": [
              "<PIL.Image.Image image mode=RGB size=300x300>"
            ],
            "image/png": "[encoded data removed]"
          },
          "metadata": {}
        },
        {
          "name": "stdout",
          "output_type": "stream",
          "text": [
            "Blue:どの番号の札を出しますか:8\n",
            "何回転させますか:0\n"
          ]
        },
        {
          "output_type": "display_data",
          "data": {
            "text/plain": [
              "<PIL.Image.Image image mode=RGB size=300x300>"
            ],
            "image/png": "[encoded data removed]"
          },
          "metadata": {}
        },
        {
          "name": "stdout",
          "output_type": "stream",
          "text": [
            "5ターン目\n",
            "Red:どの番号の札を出しますか:9\n",
            "何回転させますか:0\n"
          ]
        },
        {
          "output_type": "display_data",
          "data": {
            "text/plain": [
              "<PIL.Image.Image image mode=RGB size=300x300>"
            ],
            "image/png": "[encoded data removed]"
          },
          "metadata": {}
        },
        {
          "name": "stdout",
          "output_type": "stream",
          "text": [
            "Blue:どの番号の札を出しますか:1\n",
            "何回転させますか:0\n"
          ]
        },
        {
          "output_type": "display_data",
          "data": {
            "text/plain": [
              "<PIL.Image.Image image mode=RGB size=300x300>"
            ],
            "image/png": "[encoded data removed]"
          },
          "metadata": {}
        },
        {
          "name": "stdout",
          "output_type": "stream",
          "text": [
            "6ターン目\n",
            "Red:どの番号の札を出しますか:2\n",
            "何回転させますか:0\n"
          ]
        },
        {
          "output_type": "display_data",
          "data": {
            "text/plain": [
              "<PIL.Image.Image image mode=RGB size=300x300>"
            ],
            "image/png": "[encoded data removed]"
          },
          "metadata": {}
        },
        {
          "name": "stdout",
          "output_type": "stream",
          "text": [
            "Blue:どの番号の札を出しますか:3\n",
            "何回転させますか:0\n"
          ]
        },
        {
          "output_type": "display_data",
          "data": {
            "text/plain": [
              "<PIL.Image.Image image mode=RGB size=300x300>"
            ],
            "image/png": "[encoded data removed]"
          },
          "metadata": {}
        },
        {
          "name": "stdout",
          "output_type": "stream",
          "text": [
            "7ターン目\n",
            "Red:どの番号の札を出しますか:4\n",
            "何回転させますか:0\n"
          ]
        },
        {
          "output_type": "display_data",
          "data": {
            "text/plain": [
              "<PIL.Image.Image image mode=RGB size=300x300>"
            ],
            "image/png": "[encoded data removed]"
          },
          "metadata": {}
        },
        {
          "name": "stdout",
          "output_type": "stream",
          "text": [
            "Blue:どの番号の札を出しますか:\n",
            "番号を再入力してください:5\n",
            "何回転させますか:0\n"
          ]
        },
        {
          "output_type": "display_data",
          "data": {
            "text/plain": [
              "<PIL.Image.Image image mode=RGB size=300x300>"
            ],
            "image/png": "[encoded data removed]"
          },
          "metadata": {}
        },
        {
          "name": "stdout",
          "output_type": "stream",
          "text": [
            "8ターン目\n",
            "Red:どの番号の札を出しますか:6\n",
            "何回転させますか:0\n"
          ]
        },
        {
          "output_type": "display_data",
          "data": {
            "text/plain": [
              "<PIL.Image.Image image mode=RGB size=300x300>"
            ],
            "image/png": "[encoded data removed]"
          },
          "metadata": {}
        },
        {
          "name": "stdout",
          "output_type": "stream",
          "text": [
            "Blue:どの番号の札を出しますか:7\n",
            "何回転させますか:0\n"
          ]
        },
        {
          "output_type": "display_data",
          "data": {
            "text/plain": [
              "<PIL.Image.Image image mode=RGB size=300x300>"
            ],
            "image/png": "[encoded data removed]"
          },
          "metadata": {}
        },
        {
          "name": "stdout",
          "output_type": "stream",
          "text": [
            "9ターン目\n",
            "Red:どの番号の札を出しますか:8\n",
            "何回転させますか:0\n"
          ]
        },
        {
          "output_type": "display_data",
          "data": {
            "text/plain": [
              "<PIL.Image.Image image mode=RGB size=300x300>"
            ],
            "image/png": "[encoded data removed]"
          },
          "metadata": {}
        },
        {
          "name": "stdout",
          "output_type": "stream",
          "text": [
            "Blue:どの番号の札を出しますか:9\n",
            "何回転させますか:0\n"
          ]
        },
        {
          "output_type": "display_data",
          "data": {
            "text/plain": [
              "<PIL.Image.Image image mode=RGB size=300x300>"
            ],
            "image/png": "[encoded data removed]"
          },
          "metadata": {}
        },
        {
          "output_type": "stream",
          "name": "stdout",
          "text": [
            "result\n"
          ]
        },
        {
          "output_type": "display_data",
          "data": {
            "text/plain": [
              "<PIL.Image.Image image mode=RGB size=300x300>"
            ],
            "image/png": "[encoded data removed]"
          },
          "metadata": {}
        },
        {
          "output_type": "execute_result",
          "data": {
            "text/plain": [
              "True"
            ]
          },
          "metadata": {},
          "execution_count": 44
        }
      ]
    },
    {
      "cell_type": "markdown",
      "source": [
        "## 結果表示"
      ],
      "metadata": {
        "id": "ndsuIsyaTEdv"
      }
    },
    {
      "cell_type": "code",
      "source": [
        "import numpy as np\n",
        "import cv2\n",
        "\n",
        "def average_rgb(IMG,H,W):\n",
        "    sum_r = 0\n",
        "    sum_g = 0\n",
        "    sum_b = 0\n",
        "\n",
        "    for iy in range(H):\n",
        "      for ix in range(W):\n",
        "        sum_b += IMG[iy,ix][0]\n",
        "        sum_g += IMG[iy,ix][1]\n",
        "        sum_r += IMG[iy,ix][2]\n",
        "\n",
        "    avg_r = int(sum_r / (W * H))\n",
        "    avg_g = int(sum_g / (W * H))\n",
        "    avg_b = int(sum_b / (W * H))\n",
        "\n",
        "    return avg_r,avg_g,avg_b\n",
        "\n",
        "img = cv2.imread(\"result.png\")\n",
        "\n",
        "h = img.shape[0]\n",
        "w = img.shape[1]\n",
        "\n",
        "r,g,b = average_rgb(img,h,w)\n",
        "\n",
        "if(r > b):\n",
        "  print(f'{\"Redの勝利！ Red score = \"}{str(r)}{\"  Blue score = \"}{b}')\n",
        "\n",
        "elif(r < b):\n",
        "  print(f'{\"Blueの勝利！ Blue score = \"}{str(b)}{\"  Red score = \"}{r}')\n",
        "\n",
        "elif(r == b):\n",
        "  print(f'{\"引き分け！ score = \"}{str(b)}')"
      ],
      "metadata": {
        "colab": {
          "base_uri": "https://localhost:8080/"
        },
        "id": "AuhBxfTZTIgQ",
        "outputId": "71e39673-dbb1-4c81-9c2b-6949da39aa9b"
      },
      "execution_count": 45,
      "outputs": [
        {
          "output_type": "stream",
          "name": "stdout",
          "text": [
            "Blueの勝利！ Blue score = 185  Red score = 159\n"
          ]
        }
      ]
    }
  ],
  "metadata": {
    "colab": {
      "provenance": [],
      "authorship_tag": "ABX9TyPjyl7X43r6z91Df+G2FzZn",
      "include_colab_link": true
    },
    "kernelspec": {
      "display_name": "Python 3",
      "name": "python3"
    },
    "language_info": {
      "name": "python"
    }
  },
  "nbformat": 4,
  "nbformat_minor": 0
}